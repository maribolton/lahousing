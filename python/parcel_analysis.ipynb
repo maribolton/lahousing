{
 "cells": [
  {
   "cell_type": "code",
   "execution_count": null,
   "metadata": {},
   "outputs": [
    {
     "name": "stdout",
     "output_type": "stream",
     "text": [
      "['LACounty_Parcels']\n"
     ]
    }
   ],
   "source": [
    "import geopandas as gpd\n",
    "import fiona\n",
    "\n",
    "fgdb = '/Users/maribolton/git/lahousing/data/parcels/LACounty_Parcels.gdb'\n",
    "\n",
    "#create a list of layers with in a file geodatabase \n",
    "layerlist = fiona.listlayers(fgdb)\n",
    "print(layerlist)\n",
    "for i in sorted(layerlist):\n",
    "    df1 = gpd.read_file(fgdb,layer=i)"
   ]
  }
 ],
 "metadata": {
  "kernelspec": {
   "display_name": "pyenv3131",
   "language": "python",
   "name": "python3"
  },
  "language_info": {
   "codemirror_mode": {
    "name": "ipython",
    "version": 3
   },
   "file_extension": ".py",
   "mimetype": "text/x-python",
   "name": "python",
   "nbconvert_exporter": "python",
   "pygments_lexer": "ipython3",
   "version": "3.13.1"
  }
 },
 "nbformat": 4,
 "nbformat_minor": 2
}
